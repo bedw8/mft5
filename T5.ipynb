{
 "cells": [
  {
   "cell_type": "code",
   "execution_count": 1,
   "id": "10d97c34",
   "metadata": {},
   "outputs": [],
   "source": [
    "import matplotlib.pyplot as plt\n",
    "from matplotlib.ticker import (FormatStrFormatter,MultipleLocator, NullFormatter,ScalarFormatter)\n",
    "import seaborn as sns\n",
    "import numpy as np"
   ]
  },
  {
   "cell_type": "code",
   "execution_count": 2,
   "id": "9997b267",
   "metadata": {},
   "outputs": [
    {
     "data": {
      "image/png": "[encoded data removed]",
      "text/plain": [
       "<Figure size 324x288 with 1 Axes>"
      ]
     },
     "metadata": {
      "needs_background": "light"
     },
     "output_type": "display_data"
    }
   ],
   "source": [
    "sns.set_context('paper', font_scale=0.95)\n",
    "\n",
    "fig = plt.figure(figsize=(4.5,4))\n",
    "ax = fig.add_subplot(111)\n",
    "\n",
    "xlist = [0.2,0.35,0.35,0.5,0.5,0.70,0.70,1. ,1.,1.1]\n",
    "ylist = [  0,   0,   1,  1,0.5, 0.5, 0.2,0.2,0,  0]\n",
    "\n",
    "ax.plot(xlist,ylist)\n",
    "ax.set_xticks([0.35,0.5,0.70,1])\n",
    "ax.set_yticks([0,0.2,0.5,1])\n",
    "\n",
    "ax.xaxis.set_major_formatter(FormatStrFormatter(\"%g\"))\n",
    "ax.yaxis.set_major_formatter(FormatStrFormatter(\"%g\"))\n",
    "\n",
    "ax.set_xlim([0.3,1.05])\n",
    "\n",
    "ax.set_xlabel('Wavelength ($\\lambda$) [$\\mu$m]')\n",
    "ax.set_ylabel('F$_\\lambda$ [W m$^{-2}\\mu$m$^{-1}$]')\n",
    "\n",
    "ax.grid()\n",
    "\n",
    "fig.tight_layout()\n",
    "fig.savefig('figs/F_lambda')\n"
   ]
  },
  {
   "cell_type": "markdown",
   "id": "bba2472f",
   "metadata": {},
   "source": [
    "## "
   ]
  },
  {
   "cell_type": "code",
   "execution_count": 6,
   "id": "926c8d2d",
   "metadata": {
    "scrolled": false
   },
   "outputs": [
    {
     "name": "stdout",
     "output_type": "stream",
     "text": [
      "[0.2  0.35 0.35 0.5  0.5  0.7  0.7  1.   1.   1.1 ]\n"
     ]
    }
   ],
   "source": [
    "lam = np.array(xlist)\n",
    "F = np.array(ylist)"
   ]
  },
  {
   "cell_type": "code",
   "execution_count": 4,
   "id": "cdfa845b",
   "metadata": {},
   "outputs": [],
   "source": [
    "alph = np.array([0,0,0,0,0,0,1,1,1,1])"
   ]
  },
  {
   "cell_type": "code",
   "execution_count": 55,
   "id": "4fa4edcf",
   "metadata": {},
   "outputs": [
    {
     "data": {
      "text/plain": [
       "0.25"
      ]
     },
     "execution_count": 55,
     "metadata": {},
     "output_type": "execute_result"
    }
   ],
   "source": [
    "alph_total = np.trapz((1-alph)*F,lam)\n",
    "alph_total"
   ]
  },
  {
   "cell_type": "markdown",
   "id": "186744d0",
   "metadata": {},
   "source": [
    "## P.4.15"
   ]
  },
  {
   "cell_type": "code",
   "execution_count": 52,
   "id": "2ebd5f3f",
   "metadata": {},
   "outputs": [
    {
     "data": {
      "text/plain": [
       "69.31471805599453"
      ]
     },
     "execution_count": 52,
     "metadata": {},
     "output_type": "execute_result"
    }
   ],
   "source": [
    "u = np.log(0.5)/(-0.01)\n",
    "u"
   ]
  },
  {
   "cell_type": "markdown",
   "id": "2a84e901",
   "metadata": {},
   "source": [
    "## P4.46"
   ]
  },
  {
   "cell_type": "code",
   "execution_count": 54,
   "id": "1b25ef16",
   "metadata": {},
   "outputs": [
    {
     "data": {
      "text/plain": [
       "100.5033585350145"
      ]
     },
     "execution_count": 54,
     "metadata": {},
     "output_type": "execute_result"
    }
   ],
   "source": [
    "H = 1e4 # meters\n",
    "h = -H*np.log(99/100) # meters\n",
    "h"
   ]
  },
  {
   "cell_type": "code",
   "execution_count": 53,
   "id": "9bdfe8e5",
   "metadata": {},
   "outputs": [
    {
     "data": {
      "text/plain": [
       "990.0"
      ]
     },
     "execution_count": 53,
     "metadata": {},
     "output_type": "execute_result"
    }
   ],
   "source": [
    "p1 = 1000 # hPa\n",
    "p2 = p1 * np.exp(-h/H)\n",
    "p2 # hPa"
   ]
  }
 ],
 "metadata": {
  "kernelspec": {
   "display_name": "Python 3 (ipykernel)",
   "language": "python",
   "name": "python3"
  },
  "language_info": {
   "codemirror_mode": {
    "name": "ipython",
    "version": 3
   },
   "file_extension": ".py",
   "mimetype": "text/x-python",
   "name": "python",
   "nbconvert_exporter": "python",
   "pygments_lexer": "ipython3",
   "version": "3.10.5"
  }
 },
 "nbformat": 4,
 "nbformat_minor": 5
}
